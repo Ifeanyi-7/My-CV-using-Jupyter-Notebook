{
 "cells": [
  {
   "cell_type": "code",
   "execution_count": 1,
   "id": "4ff26168",
   "metadata": {},
   "outputs": [],
   "source": [
    "from IPython.display import display, Markdown\n"
   ]
  },
  {
   "cell_type": "code",
   "execution_count": 2,
   "id": "e0fbbfb9",
   "metadata": {},
   "outputs": [],
   "source": [
    "import pandas as pd\n",
    "import matplotlib.pyplot as plt\n"
   ]
  },
  {
   "cell_type": "code",
   "execution_count": 3,
   "id": "757f578c",
   "metadata": {},
   "outputs": [],
   "source": [
    "# Personal Information\n",
    "def personal_info():\n",
    "    display(Markdown(\"\"\"\n",
    "    # IFEANYI ISAIAH NSUDE\n",
    "    **Data Scientist | Customer Service Specialist**\n",
    "    \n",
    "    📍 Location: Nigeria | Remote  \n",
    "    ✉️ Email: ifycothegreat@gmail.com  \n",
    "    🔗 [LinkedIn](https://www.linkedin.com/in/ifeanyi-nsude) | [GitHub](https://github.com/Ifeanyi-7)  \n",
    "    \"\"\"))\n"
   ]
  },
  {
   "cell_type": "code",
   "execution_count": 4,
   "id": "a74dbf24",
   "metadata": {},
   "outputs": [],
   "source": [
    "# Professional Summary"
   ]
  },
  {
   "cell_type": "code",
   "execution_count": 5,
   "id": "6f030811",
   "metadata": {},
   "outputs": [],
   "source": [
    "def professional_summary():\n",
    "    display(Markdown(\"\"\"\n",
    "    ## Professional Summary\n",
    "    Data Scientist and Customer Service Specialist with a solid background in statistical analysis, machine learning, and data visualization.\n",
    "    Skilled at deriving actionable insights from complex data sets to guide business decisions.\n",
    "    Experienced in Python, Microsoft Office Suite, and various customer service software.\n",
    "    \"\"\"))\n",
    "\n",
    "    "
   ]
  },
  {
   "cell_type": "code",
   "execution_count": 6,
   "id": "87e62395",
   "metadata": {},
   "outputs": [],
   "source": [
    "# Experience\n",
    "def experience():\n",
    "    display(Markdown(\"\"\"\n",
    "    ## Experience\n",
    "    \n",
    "    **Data Scientist | Endpoint Gadget | Port Harcourt, Nigeria | Sep 2023 - Sep 2024**\n",
    "    - Developed and fine-tuned predictive models, enhancing forecast accuracy by 20%.\n",
    "    - Improved customer segmentation through machine learning, boosting targeted marketing efficiency by 15%.\n",
    "    - Created interactive dashboards, which cut down decision-making time by 30%.\n",
    "    - Conducted workshops to train teams on data analysis tools, promoting a data-driven culture.\n",
    "    - Identified significant market trends, offering insights that led to increased sales and operational efficiency.\n",
    "    \n",
    "    **Customer Service Representative | Freelance & Remote Projects**\n",
    "    - Assisted customers with inquiries, resolved issues, and provided product recommendations, achieving a 95% satisfaction rating.\n",
    "    - Utilized CRM tools (Zendesk, Freshdesk) to efficiently track and resolve customer complaints.\n",
    "    - Enhanced response times by 30% through automation and streamlined processes.\n",
    "    \"\"\"))\n",
    "\n"
   ]
  },
  {
   "cell_type": "code",
   "execution_count": 7,
   "id": "401ceb73",
   "metadata": {},
   "outputs": [],
   "source": [
    "# Education"
   ]
  },
  {
   "cell_type": "code",
   "execution_count": 8,
   "id": "6f1f60be",
   "metadata": {},
   "outputs": [],
   "source": [
    "def education():\n",
    "    display(Markdown(\"\"\"\n",
    "    ## Education\n",
    "    - **B.A. in International Studies & History** | Plateau State University, Nigeria | 2016 - 2021\n",
    "    - **Diploma in Information Technology** | University of Jos, Nigeria (GPA: 3.50)\n",
    "    \"\"\"))\n",
    "\n"
   ]
  },
  {
   "cell_type": "code",
   "execution_count": 9,
   "id": "ed753380",
   "metadata": {},
   "outputs": [],
   "source": [
    "# Skills & Tools Chart"
   ]
  },
  {
   "cell_type": "code",
   "execution_count": 10,
   "id": "76732c34",
   "metadata": {},
   "outputs": [],
   "source": [
    "def skills_chart():\n",
    "    skills = [\"Python\", \"Machine Learning\", \"Data Visualization\", \"Customer Service\", \"Power BI\"]\n",
    "    proficiency = [9, 8, 8, 10, 7]\n"
   ]
  },
  {
   "cell_type": "code",
   "execution_count": 14,
   "id": "529de6b4",
   "metadata": {},
   "outputs": [
    {
     "data": {
      "image/png": "[encoded data removed]",
      "text/plain": [
       "<Figure size 800x500 with 1 Axes>"
      ]
     },
     "metadata": {},
     "output_type": "display_data"
    }
   ],
   "source": [
    "import matplotlib.pyplot as plt\n",
    "\n",
    "skills = [\"Python\", \"Machine Learning\", \"Data Visualization\", \"Customer Service\", \"Power BI\"]\n",
    "proficiency = [9, 8, 8, 10, 7]\n",
    "\n",
    "plt.figure(figsize=(8, 5))\n",
    "plt.barh(skills, proficiency, color='skyblue')\n",
    "plt.xlabel(\"Proficiency Level (1-10)\")\n",
    "plt.title(\"Skills & Proficiency\")\n",
    "plt.gca().invert_yaxis()\n",
    "plt.show()\n"
   ]
  },
  {
   "cell_type": "code",
   "execution_count": 15,
   "id": "5e7e628c",
   "metadata": {},
   "outputs": [
    {
     "data": {
      "text/markdown": [
       "\n",
       "    # IFEANYI ISAIAH NSUDE\n",
       "    **Data Scientist | Customer Service Specialist**\n",
       "    \n",
       "    📍 Location: Nigeria | Remote  \n",
       "    ✉️ Email: ifycothegreat@gmail.com  \n",
       "    🔗 [LinkedIn](https://www.linkedin.com/in/ifeanyi-nsude) | [GitHub](https://github.com/Ifeanyi-7)  \n",
       "    "
      ],
      "text/plain": [
       "<IPython.core.display.Markdown object>"
      ]
     },
     "metadata": {},
     "output_type": "display_data"
    },
    {
     "data": {
      "text/markdown": [
       "\n",
       "    ## Professional Summary\n",
       "    Data Scientist and Customer Service Specialist with a solid background in statistical analysis, machine learning, and data visualization.\n",
       "    Skilled at deriving actionable insights from complex data sets to guide business decisions.\n",
       "    Experienced in Python, Microsoft Office Suite, and various customer service software.\n",
       "    "
      ],
      "text/plain": [
       "<IPython.core.display.Markdown object>"
      ]
     },
     "metadata": {},
     "output_type": "display_data"
    },
    {
     "data": {
      "text/markdown": [
       "\n",
       "    ## Experience\n",
       "    \n",
       "    **Data Scientist | Endpoint Gadget | Port Harcourt, Nigeria | Sep 2023 - Sep 2024**\n",
       "    - Developed and fine-tuned predictive models, enhancing forecast accuracy by 20%.\n",
       "    - Improved customer segmentation through machine learning, boosting targeted marketing efficiency by 15%.\n",
       "    - Created interactive dashboards, which cut down decision-making time by 30%.\n",
       "    - Conducted workshops to train teams on data analysis tools, promoting a data-driven culture.\n",
       "    - Identified significant market trends, offering insights that led to increased sales and operational efficiency.\n",
       "    \n",
       "    **Customer Service Representative | Freelance & Remote Projects**\n",
       "    - Assisted customers with inquiries, resolved issues, and provided product recommendations, achieving a 95% satisfaction rating.\n",
       "    - Utilized CRM tools (Zendesk, Freshdesk) to efficiently track and resolve customer complaints.\n",
       "    - Enhanced response times by 30% through automation and streamlined processes.\n",
       "    "
      ],
      "text/plain": [
       "<IPython.core.display.Markdown object>"
      ]
     },
     "metadata": {},
     "output_type": "display_data"
    },
    {
     "data": {
      "text/markdown": [
       "\n",
       "    ## Education\n",
       "    - **B.A. in International Studies & History** | Plateau State University, Nigeria | 2016 - 2021\n",
       "    - **Diploma in Information Technology** | University of Jos, Nigeria (GPA: 3.50)\n",
       "    "
      ],
      "text/plain": [
       "<IPython.core.display.Markdown object>"
      ]
     },
     "metadata": {},
     "output_type": "display_data"
    }
   ],
   "source": [
    "# Call Functions\n",
    "personal_info()\n",
    "professional_summary()\n",
    "experience()\n",
    "education()\n",
    "skills_chart() \n"
   ]
  }
 ],
 "metadata": {
  "kernelspec": {
   "display_name": "Python 3 (ipykernel)",
   "language": "python",
   "name": "python3"
  },
  "language_info": {
   "codemirror_mode": {
    "name": "ipython",
    "version": 3
   },
   "file_extension": ".py",
   "mimetype": "text/x-python",
   "name": "python",
   "nbconvert_exporter": "python",
   "pygments_lexer": "ipython3",
   "version": "3.11.4"
  }
 },
 "nbformat": 4,
 "nbformat_minor": 5
}
